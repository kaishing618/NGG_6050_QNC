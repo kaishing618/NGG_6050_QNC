{
 "cells": [
  {
   "cell_type": "markdown",
   "id": "1d41a558",
   "metadata": {},
   "source": [
    "# Exercises"
   ]
  },
  {
   "cell_type": "markdown",
   "id": "a5185740",
   "metadata": {},
   "source": [
    "Let's examine the relationship between these two measured variables:\n",
    "\n",
    "Wing length | Tail length\n",
    "--- | ---\n",
    "10.4 | 7.4\n",
    "10.8 | 7.6\n",
    "11.1 | 7.9\n",
    "10.2 | 7.2\n",
    "10.3 | 7.4\n",
    "10.2 | 7.1\n",
    "10.7 | 7.4\n",
    "10.5 | 7.2\n",
    "10.8 | 7.8\n",
    "11.2 | 7.7\n",
    "10.6 | 7.8\n",
    "11.4 | 8.3\n",
    "\n",
    "Assume Wing length is the $X$ variable and Tail Length is the $Y$ variable, both measured in cm."
   ]
  },
  {
   "cell_type": "markdown",
   "id": "bd869dbb",
   "metadata": {},
   "source": [
    "##### 1\\. Plot X vs Y. Do they look related?"
   ]
  },
  {
   "cell_type": "code",
   "execution_count": 6,
   "id": "3165cf77",
   "metadata": {},
   "outputs": [
    {
     "data": {
      "image/png": "[encoded data removed]",
      "text/plain": [
       "<Figure size 600x400 with 1 Axes>"
      ]
     },
     "metadata": {},
     "output_type": "display_data"
    }
   ],
   "source": [
    "import matplotlib.pyplot as plt\n",
    "import numpy as np\n",
    "from numpy import atanh, tanh, sqrt\n",
    "import scipy.stats as stats\n",
    "\n",
    "# Wing length (X) and Tail length (Y) data\n",
    "x = np.array([10.4, 10.8, 11.1, 10.2, 10.3, 10.2, 10.7, 10.5, 10.8, 11.2, 10.6, 11.4])\n",
    "y = np.array([7.4, 7.6, 7.9, 7.2, 7.4, 7.1, 7.4, 7.2, 7.8, 7.7, 7.8, 8.3])\n",
    "\n",
    "# Scatter plot\n",
    "plt.figure(figsize=(6,4))\n",
    "plt.scatter(x, y, color='tab:blue', label='observations')\n",
    "\n",
    "plt.xlabel('Wing length (cm)')\n",
    "plt.ylabel('Tail length (cm)')\n",
    "plt.title('Wing length vs Tail length')\n",
    "plt.legend()\n",
    "plt.grid(alpha=0.3)\n",
    "plt.show()"
   ]
  },
  {
   "cell_type": "markdown",
   "id": "dae466c1",
   "metadata": {},
   "source": [
    "##### 2\\. Calculate $r_{X,Y}$ and $r_{Y,X}$, first using the equations above and then using either the Python numpy funciton [corrcoef](https://numpy.org/doc/stable/reference/generated/numpy.corrcoef.html) or Matlab's built-in [corrcoef](https://www.mathworks.com/help/matlab/ref/corrcoef.html). Did you get the same answers?"
   ]
  },
  {
   "cell_type": "code",
   "execution_count": 7,
   "id": "4e9bd15a",
   "metadata": {},
   "outputs": [
    {
     "name": "stdout",
     "output_type": "stream",
     "text": [
      "r(x,y) = 0.8704\n",
      "r(y,x) = 0.8704\n"
     ]
    }
   ],
   "source": [
    "# Compute Pearson correlation using numpy.corrcoef\n",
    "corr_matrix = np.corrcoef(x, y)\n",
    "r_xy = corr_matrix[0,1]\n",
    "r_yx = corr_matrix[1,0]\n",
    "\n",
    "print(f\"r(x,y) = {r_xy:.4f}\")\n",
    "print(f\"r(y,x) = {r_yx:.4f}\")"
   ]
  },
  {
   "cell_type": "markdown",
   "id": "7c981b1e",
   "metadata": {},
   "source": [
    "##### 3\\. What is the standard error of $r_{X,Y}$? The 95% confidence intervals computed from the standard error?"
   ]
  },
  {
   "cell_type": "code",
   "execution_count": 8,
   "id": "e637f611",
   "metadata": {},
   "outputs": [
    {
     "name": "stdout",
     "output_type": "stream",
     "text": [
      "r = 0.870355\n",
      "\n",
      "Approximate SE of r (sqrt((1-r^2)/(n-2))) = 0.155719\n",
      "Fisher z SE (1/sqrt(n-3)) = 0.333333\n",
      "\n",
      "95% CI (Fisher z transform): (0.592303, 0.963161)\n",
      "95% CI (approx using SE of r): (0.565146, 1.175563)\n"
     ]
    }
   ],
   "source": [
    "# Sample size\n",
    "n = len(x)\n",
    "# correlation (from previous cell)\n",
    "r = np.corrcoef(x,y)[0,1]\n",
    "\n",
    "# 1) Approximate standard error of r (Fisher z-approx gives se for z)\n",
    "# For Fisher z transform, se_z = 1/sqrt(n-3)\n",
    "se_r_approx = np.sqrt((1 - r**2) / (n - 2))\n",
    "se_z = 1.0 / np.sqrt(n - 3)\n",
    "\n",
    "# 95% CI via Fisher z transform\n",
    "z = atanh(r)  # fisher z\n",
    "z_crit = 1.96  # normal approx for 95%\n",
    "z_lo, z_hi = z - z_crit * se_z, z + z_crit * se_z\n",
    "ci_fisher = (tanh(z_lo), tanh(z_hi))\n",
    "\n",
    "# 95% CI via approximate SE on r (not recommended for r near ±1)\n",
    "r_lo_approx = r - z_crit * se_r_approx\n",
    "r_hi_approx = r + z_crit * se_r_approx\n",
    "\n",
    "print(f\"r = {r:.6f}\")\n",
    "print()\n",
    "print(f\"Approximate SE of r (sqrt((1-r^2)/(n-2))) = {se_r_approx:.6f}\")\n",
    "print(f\"Fisher z SE (1/sqrt(n-3)) = {se_z:.6f}\")\n",
    "print()\n",
    "print(\"95% CI (Fisher z transform):\", f\"({ci_fisher[0]:.6f}, {ci_fisher[1]:.6f})\")\n",
    "print(\"95% CI (approx using SE of r):\", f\"({r_lo_approx:.6f}, {r_hi_approx:.6f})\")"
   ]
  },
  {
   "cell_type": "markdown",
   "id": "9906866a",
   "metadata": {},
   "source": [
    "##### 4\\. Should the value of $r_{X,Y}$ be considered significant at the *p*<0.05 level, given a two-tailed test (i.e., we reject if the test statistic is too large on either tail of the null distribution) for $H_0: r_{X,Y}=0$?"
   ]
  },
  {
   "cell_type": "code",
   "execution_count": 9,
   "id": "084932ef",
   "metadata": {},
   "outputs": [
    {
     "name": "stdout",
     "output_type": "stream",
     "text": [
      "r = 0.870355\n",
      "t-statistic = 5.589277\n",
      "n = 12, df = 10\n",
      "p = 2.311059e-04\n",
      "Reject H0 at alpha=0.05 (p=2.3111e-04)\n"
     ]
    }
   ],
   "source": [
    "#Hypothesis test for H0: ρ=0 vs H1: ρ≠0 using t-distribution\n",
    "df = n - 2\n",
    "t_stat = r * sqrt((n - 2) / (1 - r**2))\n",
    "p_two_tailed = 2 * stats.t.sf(abs(t_stat), df)\n",
    "\n",
    "print(f\"r = {r:.6f}\")\n",
    "print(f\"t-statistic = {t_stat:.6f}\")\n",
    "print(f\"n = {n}, df = {df}\")\n",
    "print(f\"p = {p_two_tailed:.6e}\")\n",
    "\n",
    "alpha = 0.05\n",
    "if p_two_tailed < alpha:\n",
    "    print(f\"Reject H0 at alpha={alpha} (p={p_two_tailed:.4e})\")\n",
    "else:\n",
    "    print(f\"Fail to reject H0 at alpha={alpha} (p={p_two_tailed:.4e})\")"
   ]
  },
  {
   "cell_type": "markdown",
   "id": "6f9f38c2",
   "metadata": {},
   "source": [
    "##### 5\\. Yale does the exact same study and finds that his correlation value is 0.75. Is this the same as yours? That is, evaluate $𝐻_0: r=0.75$."
   ]
  },
  {
   "cell_type": "code",
   "execution_count": 10,
   "id": "55edcf72",
   "metadata": {},
   "outputs": [
    {
     "name": "stdout",
     "output_type": "stream",
     "text": [
      "Observed r = 0.870355\n",
      "Null r = 0.750000\n",
      "z-statistic = 1.084755\n",
      "two-tailed p-value = 2.780303e-01\n",
      "Fail to reject H0: r = 0.75 at alpha=0.05 (p=2.7803e-01)\n"
     ]
    }
   ],
   "source": [
    "# Test H0: ρ = 0.75 vs H1: ρ ≠ 0.75 \n",
    "r_obs = r\n",
    "r_null = 0.75\n",
    "\n",
    "# Fisher z values\n",
    "z_obs = atanh(r_obs)\n",
    "z_null = atanh(r_null)\n",
    "se_z = 1.0 / sqrt(n - 3)\n",
    "z_stat = (z_obs - z_null) / se_z\n",
    "\n",
    "# two-tailed p-value using normal distribution\n",
    "from scipy import stats\n",
    "p_two_tailed = 2 * stats.norm.sf(abs(z_stat))\n",
    "\n",
    "print(f\"Observed r = {r_obs:.6f}\")\n",
    "print(f\"Null r = {r_null:.6f}\")\n",
    "print(f\"z-statistic = {z_stat:.6f}\")\n",
    "print(f\"two-tailed p-value = {p_two_tailed:.6e}\")\n",
    "\n",
    "alpha = 0.05\n",
    "if p_two_tailed < alpha:\n",
    "    print(f\"Reject H0: r = {r_null} at alpha={alpha} (p={p_two_tailed:.4e})\")\n",
    "else:\n",
    "    print(f\"Fail to reject H0: r = {r_null} at alpha={alpha} (p={p_two_tailed:.4e})\")"
   ]
  },
  {
   "cell_type": "markdown",
   "id": "27cda0dd",
   "metadata": {},
   "source": [
    "##### 6\\. Finally, calculate the statistical power and sample size needed to reject $H_0:r=0\\:when\\:r\\ge 0.5$."
   ]
  },
  {
   "cell_type": "code",
   "execution_count": null,
   "id": "1e34a821",
   "metadata": {},
   "outputs": [
    {
     "name": "stdout",
     "output_type": "stream",
     "text": [
      "Current n = 12\n",
      "Power (one-sided) to detect r = 0.5 at current n: 0.5012\n",
      "Minimum n for 80% power (one-sided) to detect r = 0.5: n = 24 (power=0.8085)\n",
      "Minimum n for 90% power (one-sided) to detect r = 0.5: n = 32 (power=0.9055)\n"
     ]
    }
   ],
   "source": [
    "# Hypothesized true correlation under H1 to plan for (effect size)\n",
    "r_true = 0.5  # the alternative of interest (r >= 0.5)\n",
    "alpha = 0.05  # significance level\n",
    "# compute one-sided power (H0: r=0 vs H1: r>0, rejecting H0 when r >= 0.5)\n",
    "\n",
    "def power_for_r(n, r_alt, alpha=0.05, two_sided=False):\n",
    "    \"\"\"Compute approximate power to detect correlation r_alt at sample size n.\n",
    "    Uses Fisher z-transform and normal approximation.\n",
    "    If two_sided is False, returns one-sided power.\n",
    "    \"\"\"\n",
    "    # Fisher z for alt and null (null r=0 -> z0=0)\n",
    "    z_alt = atanh(r_alt)\n",
    "    z0 = 0.0\n",
    "    se_z = 1.0 / sqrt(n - 3)\n",
    "\n",
    "    # critical value on z-scale for test of H0: r=0\n",
    "    if two_sided:\n",
    "        z_crit = stats.norm.ppf(1 - alpha / 2)\n",
    "        # power = P(Z > z_crit - (z_alt - z0)/se_z) + P(Z < -z_crit - (z_alt - z0)/se_z)\n",
    "        delta = (z_alt - z0) / se_z\n",
    "        power = stats.norm.sf(z_crit - delta) + stats.norm.cdf(-z_crit - delta)\n",
    "    else:\n",
    "        z_crit = stats.norm.ppf(1 - alpha)\n",
    "        delta = (z_alt - z0) / se_z\n",
    "        power = stats.norm.sf(z_crit - delta)\n",
    "\n",
    "    return power\n",
    "\n",
    "# 1) Power at the current sample size for r = 0.5 (one-sided)\n",
    "power_current = power_for_r(n, r_true, alpha=alpha, two_sided=False)\n",
    "\n",
    "# 2) Find minimal n required to achieve target power(s) for r=0.5\n",
    "def required_n_for_power(r_alt, target_power=0.8, alpha=0.05, two_sided=False, n_min=4, n_max=1000):\n",
    "    for nn in range(max(n_min,4), n_max+1):\n",
    "        pwr = power_for_r(nn, r_alt, alpha=alpha, two_sided=two_sided)\n",
    "        if pwr >= target_power:\n",
    "            return nn, pwr\n",
    "    return None, None\n",
    "\n",
    "n80, p80 = required_n_for_power(r_true, target_power=0.8, alpha=alpha, two_sided=False, n_max=500)\n",
    "n90, p90 = required_n_for_power(r_true, target_power=0.9, alpha=alpha, two_sided=False, n_max=500)\n",
    "\n",
    "print(f\"Current n = {n}\")\n",
    "print(f\"Power (one-sided) to detect r = {r_true} at current n: {power_current:.4f}\")\n",
    "if n80 is not None:\n",
    "    print(f\"Minimum n for 80% power (one-sided) to detect r = {r_true}: n = {n80} (power={p80:.4f})\")\n",
    "else:\n",
    "    print(\"Could not find n up to search limit for 80% power\")\n",
    "if n90 is not None:\n",
    "    print(f\"Minimum n for 90% power (one-sided) to detect r = {r_true}: n = {n90} (power={p90:.4f})\")\n",
    "else:\n",
    "    print(\"Could not find n up to search limit for 90% power\")\n"
   ]
  }
 ],
 "metadata": {
  "kernelspec": {
   "display_name": "Python 3",
   "language": "python",
   "name": "python3"
  },
  "language_info": {
   "codemirror_mode": {
    "name": "ipython",
    "version": 3
   },
   "file_extension": ".py",
   "mimetype": "text/x-python",
   "name": "python",
   "nbconvert_exporter": "python",
   "pygments_lexer": "ipython3",
   "version": "3.13.7"
  }
 },
 "nbformat": 4,
 "nbformat_minor": 5
}
