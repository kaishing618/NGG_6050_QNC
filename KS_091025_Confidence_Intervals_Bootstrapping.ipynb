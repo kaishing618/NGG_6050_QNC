{
 "cells": [
  {
   "cell_type": "markdown",
   "id": "c8daa887",
   "metadata": {},
   "source": [
    "Compute confidence/credible intervals based on the four methods above for simulated data sampled from a population that is Gaussian distributed with mean \n",
    "µ=10 and standard deviation σ=2, for n=5, 10, 20, 40, 80, 160, 1000 at a 95% confidence level."
   ]
  },
  {
   "cell_type": "code",
   "execution_count": 1,
   "id": "7453ea9e",
   "metadata": {},
   "outputs": [],
   "source": [
    "import scipy.stats as st\n",
    "import numpy as np"
   ]
  },
  {
   "cell_type": "code",
   "execution_count": 2,
   "id": "966598b1",
   "metadata": {},
   "outputs": [],
   "source": [
    "alpha = 0.95 #confidence level\n",
    "mu = 10 #mean\n",
    "sigma = 2 #sd"
   ]
  },
  {
   "cell_type": "code",
   "execution_count": 28,
   "id": "aa1f17fc",
   "metadata": {},
   "outputs": [
    {
     "name": "stdout",
     "output_type": "stream",
     "text": [
      "n = 5, mean = 10.98\n",
      "Z-score CI: 9.23 to 12.74\n",
      "n = 10, mean = 9.86\n",
      "Z-score CI: 8.62 to 11.09\n",
      "n = 20, mean = 9.42\n",
      "Z-score CI: 8.54 to 10.29\n",
      "n = 40, mean = 9.91\n",
      "Z-score CI: 9.29 to 10.53\n",
      "n = 80, mean = 9.69\n",
      "Z-score CI: 9.25 to 10.13\n",
      "n = 160, mean = 9.90\n",
      "Z-score CI: 9.59 to 10.21\n",
      "n = 1000, mean = 10.02\n",
      "Z-score CI: 9.90 to 10.14\n"
     ]
    }
   ],
   "source": [
    "#1. The simple, analytic approach with large n and/or known standard deviation.\n",
    "\n",
    "for n in [5, 10, 20, 40, 80, 160, 1000]:\n",
    "   \n",
    "   samples = np.random.normal(mu, sigma, n) #simulate data\n",
    "   sample_mean = np.mean(samples) #store mean\n",
    "   print(f'n = {n}, mean = {sample_mean:.2f}') #print mean\n",
    "\n",
    "   z = -st.norm.ppf((1-alpha)/2) #compute z-score for normal distribution (1-alpha/2)\n",
    "   se = sigma/np.sqrt(n) #compute standard error\n",
    "   ci_z = (sample_mean - z*se, sample_mean + z*se) #compute confidence interval using z-score\n",
    "   print(f'Z-score CI: {ci_z[0]:.2f} to {ci_z[1]:.2f}')\n"
   ]
  },
  {
   "cell_type": "code",
   "execution_count": 27,
   "id": "c9b5867b",
   "metadata": {},
   "outputs": [
    {
     "name": "stdout",
     "output_type": "stream",
     "text": [
      "T-score CI: 7.67 to 12.63\n",
      "T-score CI: 8.72 to 11.58\n",
      "T-score CI: 9.22 to 11.08\n",
      "T-score CI: 9.51 to 10.79\n",
      "T-score CI: 9.71 to 10.59\n",
      "T-score CI: 9.84 to 10.46\n",
      "T-score CI: 10.03 to 10.27\n"
     ]
    }
   ],
   "source": [
    "#2. The simple, analytic approach with small n and unknown population standard deviation\n",
    "for n in [5, 10, 20, 40, 80, 160, 1000]:\n",
    "       t = -st.t.ppf((1-alpha)/2,df=n-1) #compute t-score for t-distribution (1-alpha/2, df=n-1)\n",
    "       sem = np.std(samples)/np.sqrt(n); #compute standard error of the mean\n",
    "       ci_t = (sample_mean - t*sem, sample_mean + t*sem) #compute confidence interval using t-score\n",
    "       print(f'T-score CI: {ci_t[0]:.2f} to {ci_t[1]:.2f}')\n",
    "\n",
    "\n"
   ]
  },
  {
   "cell_type": "code",
   "execution_count": 21,
   "id": "c55d06ec",
   "metadata": {},
   "outputs": [
    {
     "name": "stdout",
     "output_type": "stream",
     "text": [
      "n = 5, mean = 10.33\n",
      "Bootstrap CI: 7.98 to 13.54\n",
      "n = 10, mean = 10.97\n",
      "Bootstrap CI: 10.00 to 12.04\n",
      "n = 20, mean = 8.97\n",
      "Bootstrap CI: 8.06 to 9.86\n",
      "n = 40, mean = 10.31\n",
      "Bootstrap CI: 9.65 to 10.97\n",
      "n = 80, mean = 9.89\n",
      "Bootstrap CI: 9.46 to 10.35\n",
      "n = 160, mean = 10.08\n",
      "Bootstrap CI: 9.80 to 10.37\n",
      "n = 1000, mean = 10.08\n",
      "Bootstrap CI: 9.97 to 10.19\n"
     ]
    }
   ],
   "source": [
    "#3. Bootstrapped confidence intervals\n",
    "\n",
    "for n in [5, 10, 20, 40, 80, 160, 1000]:\n",
    "   samples = np.random.normal(mu, sigma, n) #simulate data\n",
    "   sample_mean = np.mean(samples) #store mean\n",
    "   print(f'n = {n}, mean = {sample_mean:.2f}') #print mean\n",
    "\n",
    "   # Bootstrap\n",
    "   bootstrapped_means = []\n",
    "   for _ in range(1000): # 1000 bootstrap samples\n",
    "       boot_sample = np.random.choice(samples, size=n, replace=True)\n",
    "       bootstrapped_means.append(np.mean(boot_sample))\n",
    "   ci_boot = (np.percentile(bootstrapped_means, 2.5), np.percentile(bootstrapped_means, 97.5))\n",
    "   print(f'Bootstrap CI: {ci_boot[0]:.2f} to {ci_boot[1]:.2f}')\n"
   ]
  },
  {
   "cell_type": "code",
   "execution_count": 22,
   "id": "18584f07",
   "metadata": {},
   "outputs": [
    {
     "name": "stdout",
     "output_type": "stream",
     "text": [
      "n = 5, mean = 8.71\n",
      "Bayesian CI: 6.96 to 10.46\n",
      "n = 10, mean = 9.85\n",
      "Bayesian CI: 8.61 to 11.09\n",
      "n = 20, mean = 10.49\n",
      "Bayesian CI: 9.62 to 11.37\n",
      "n = 40, mean = 10.29\n",
      "Bayesian CI: 9.67 to 10.91\n",
      "n = 80, mean = 9.87\n",
      "Bayesian CI: 9.43 to 10.30\n",
      "n = 160, mean = 9.95\n",
      "Bayesian CI: 9.64 to 10.26\n",
      "n = 1000, mean = 9.98\n",
      "Bayesian CI: 9.86 to 10.10\n"
     ]
    }
   ],
   "source": [
    "#4. Bayesian credible intervals\n",
    "\n",
    "for n in [5, 10, 20, 40, 80, 160, 1000]:\n",
    "    samples = np.random.normal(mu, sigma, n) #simulate data\n",
    "    sample_mean = np.mean(samples) #store mean\n",
    "    print(f'n = {n}, mean = {sample_mean:.2f}') #print mean\n",
    "    \n",
    "    # Bayesian credible interval assuming a normal prior\n",
    "    posterior_mean = sample_mean\n",
    "    posterior_sd = sigma / np.sqrt(n)\n",
    "    ci_bayes = (posterior_mean - z*posterior_sd, posterior_mean + z*posterior_sd)\n",
    "    print(f'Bayesian CI: {ci_bayes[0]:.2f} to {ci_bayes[1]:.2f}')\n",
    "\n"
   ]
  }
 ],
 "metadata": {
  "kernelspec": {
   "display_name": "Python 3",
   "language": "python",
   "name": "python3"
  },
  "language_info": {
   "codemirror_mode": {
    "name": "ipython",
    "version": 3
   },
   "file_extension": ".py",
   "mimetype": "text/x-python",
   "name": "python",
   "nbconvert_exporter": "python",
   "pygments_lexer": "ipython3",
   "version": "3.13.7"
  }
 },
 "nbformat": 4,
 "nbformat_minor": 5
}
